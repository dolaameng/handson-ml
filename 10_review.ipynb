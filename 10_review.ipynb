{
 "cells": [
  {
   "cell_type": "code",
   "execution_count": 4,
   "metadata": {
    "collapsed": true
   },
   "outputs": [],
   "source": [
    "import tensorflow as tf\n",
    "from sklearn.datasets import fetch_mldata\n",
    "\n",
    "import numpy as np"
   ]
  },
  {
   "cell_type": "code",
   "execution_count": 13,
   "metadata": {
    "collapsed": false
   },
   "outputs": [
    {
     "name": "stdout",
     "output_type": "stream",
     "text": [
      "(70000, 784) (70000,)\n"
     ]
    }
   ],
   "source": [
    "mnist = fetch_mldata(\"MNIST Original\")\n",
    "X, y = mnist.data.astype(np.float32) / 255., mnist.target.astype(np.int32)\n",
    "\n",
    "index = np.arange(X.shape[0])\n",
    "np.random.shuffle(index)\n",
    "\n",
    "X, y = X[index], y[index]\n",
    "\n",
    "print(X.shape, y.shape)"
   ]
  },
  {
   "cell_type": "code",
   "execution_count": 16,
   "metadata": {
    "collapsed": true
   },
   "outputs": [],
   "source": [
    "X_train, X_test = X[:-10000], X[-10000:]\n",
    "y_train, y_test = y[:-10000], y[-10000:]"
   ]
  },
  {
   "cell_type": "markdown",
   "metadata": {},
   "source": [
    "### build model with `tf.learn`"
   ]
  },
  {
   "cell_type": "code",
   "execution_count": 19,
   "metadata": {
    "collapsed": false
   },
   "outputs": [
    {
     "name": "stdout",
     "output_type": "stream",
     "text": [
      "WARNING:tensorflow:Using temporary folder as model directory: /tmp/tmpp8nqdar1\n",
      "INFO:tensorflow:Using default config.\n",
      "INFO:tensorflow:Using config: {'_task_type': None, '_task_id': 0, '_evaluation_master': '', '_cluster_spec': <tensorflow.python.training.server_lib.ClusterSpec object at 0x7f8601922898>, 'keep_checkpoint_every_n_hours': 10000, 'keep_checkpoint_max': 5, 'save_checkpoints_steps': None, '_master': '', '_is_chief': True, 'save_checkpoints_secs': 600, 'tf_random_seed': None, '_environment': 'local', 'tf_config': gpu_options {\n",
      "  per_process_gpu_memory_fraction: 1.0\n",
      "}\n",
      ", 'save_summary_steps': 100, '_num_ps_replicas': 0}\n",
      "WARNING:tensorflow:From /home/dola/anaconda3/envs/py3tf/lib/python3.5/site-packages/tensorflow/contrib/learn/python/learn/estimators/dnn.py:315 in fit.: calling BaseEstimator.fit (from tensorflow.contrib.learn.python.learn.estimators.estimator) with x is deprecated and will be removed after 2016-12-01.\n",
      "Instructions for updating:\n",
      "Estimator is decoupled from Scikit Learn interface by moving into\n",
      "separate class SKCompat. Arguments x, y and batch_size are only\n",
      "available in the SKCompat class, Estimator will only accept input_fn.\n",
      "Example conversion:\n",
      "  est = Estimator(...) -> est = SKCompat(Estimator(...))\n",
      "WARNING:tensorflow:From /home/dola/anaconda3/envs/py3tf/lib/python3.5/site-packages/tensorflow/contrib/learn/python/learn/estimators/dnn.py:315 in fit.: calling BaseEstimator.fit (from tensorflow.contrib.learn.python.learn.estimators.estimator) with y is deprecated and will be removed after 2016-12-01.\n",
      "Instructions for updating:\n",
      "Estimator is decoupled from Scikit Learn interface by moving into\n",
      "separate class SKCompat. Arguments x, y and batch_size are only\n",
      "available in the SKCompat class, Estimator will only accept input_fn.\n",
      "Example conversion:\n",
      "  est = Estimator(...) -> est = SKCompat(Estimator(...))\n",
      "WARNING:tensorflow:From /home/dola/anaconda3/envs/py3tf/lib/python3.5/site-packages/tensorflow/contrib/learn/python/learn/estimators/dnn.py:315 in fit.: calling BaseEstimator.fit (from tensorflow.contrib.learn.python.learn.estimators.estimator) with batch_size is deprecated and will be removed after 2016-12-01.\n",
      "Instructions for updating:\n",
      "Estimator is decoupled from Scikit Learn interface by moving into\n",
      "separate class SKCompat. Arguments x, y and batch_size are only\n",
      "available in the SKCompat class, Estimator will only accept input_fn.\n",
      "Example conversion:\n",
      "  est = Estimator(...) -> est = SKCompat(Estimator(...))\n",
      "INFO:tensorflow:Summary name dnn/hiddenlayer_0:fraction_of_zero_values is illegal; using dnn/hiddenlayer_0_fraction_of_zero_values instead.\n",
      "INFO:tensorflow:Summary name dnn/hiddenlayer_0:activation is illegal; using dnn/hiddenlayer_0_activation instead.\n",
      "INFO:tensorflow:Summary name dnn/hiddenlayer_1:fraction_of_zero_values is illegal; using dnn/hiddenlayer_1_fraction_of_zero_values instead.\n",
      "INFO:tensorflow:Summary name dnn/hiddenlayer_1:activation is illegal; using dnn/hiddenlayer_1_activation instead.\n",
      "INFO:tensorflow:Summary name dnn/logits:fraction_of_zero_values is illegal; using dnn/logits_fraction_of_zero_values instead.\n",
      "INFO:tensorflow:Summary name dnn/logits:activation is illegal; using dnn/logits_activation instead.\n",
      "INFO:tensorflow:Create CheckpointSaverHook.\n",
      "INFO:tensorflow:loss = 2.34963, step = 1\n",
      "INFO:tensorflow:Saving checkpoints for 1 into /tmp/tmpp8nqdar1/model.ckpt.\n",
      "WARNING:tensorflow:*******************************************************\n",
      "WARNING:tensorflow:TensorFlow's V1 checkpoint format has been deprecated.\n",
      "WARNING:tensorflow:Consider switching to the more efficient V2 format:\n",
      "WARNING:tensorflow:   `tf.train.Saver(write_version=tf.train.SaverDef.V2)`\n",
      "WARNING:tensorflow:now on by default.\n",
      "WARNING:tensorflow:*******************************************************\n",
      "INFO:tensorflow:loss = 0.576438, step = 101\n",
      "INFO:tensorflow:global_step/sec: 181.608\n",
      "INFO:tensorflow:loss = 0.321755, step = 201\n",
      "INFO:tensorflow:global_step/sec: 149.538\n",
      "INFO:tensorflow:loss = 0.118337, step = 301\n",
      "INFO:tensorflow:global_step/sec: 199.968\n",
      "INFO:tensorflow:loss = 0.261861, step = 401\n",
      "INFO:tensorflow:global_step/sec: 206.298\n",
      "INFO:tensorflow:loss = 0.254623, step = 501\n",
      "INFO:tensorflow:global_step/sec: 204.979\n",
      "INFO:tensorflow:loss = 0.170874, step = 601\n",
      "INFO:tensorflow:global_step/sec: 200.169\n",
      "INFO:tensorflow:loss = 0.308111, step = 701\n",
      "INFO:tensorflow:global_step/sec: 199.949\n",
      "INFO:tensorflow:loss = 0.113435, step = 801\n",
      "INFO:tensorflow:global_step/sec: 204.9\n",
      "INFO:tensorflow:loss = 0.165834, step = 901\n",
      "INFO:tensorflow:global_step/sec: 205.335\n",
      "INFO:tensorflow:loss = 0.222214, step = 1001\n",
      "INFO:tensorflow:global_step/sec: 201.649\n",
      "INFO:tensorflow:loss = 0.0952803, step = 1101\n",
      "INFO:tensorflow:global_step/sec: 203.336\n",
      "INFO:tensorflow:loss = 0.156237, step = 1201\n",
      "INFO:tensorflow:global_step/sec: 204.557\n",
      "INFO:tensorflow:loss = 0.162099, step = 1301\n",
      "INFO:tensorflow:global_step/sec: 204.035\n",
      "INFO:tensorflow:loss = 0.140041, step = 1401\n",
      "INFO:tensorflow:global_step/sec: 194.632\n",
      "INFO:tensorflow:loss = 0.0908947, step = 1501\n",
      "INFO:tensorflow:global_step/sec: 203.41\n",
      "INFO:tensorflow:loss = 0.0251547, step = 1601\n",
      "INFO:tensorflow:global_step/sec: 157.382\n",
      "INFO:tensorflow:loss = 0.059064, step = 1701\n",
      "INFO:tensorflow:global_step/sec: 160.817\n",
      "INFO:tensorflow:loss = 0.192734, step = 1801\n",
      "INFO:tensorflow:global_step/sec: 198.374\n",
      "INFO:tensorflow:loss = 0.0920228, step = 1901\n",
      "INFO:tensorflow:global_step/sec: 158.904\n",
      "INFO:tensorflow:loss = 0.12626, step = 2001\n",
      "INFO:tensorflow:global_step/sec: 160.095\n",
      "INFO:tensorflow:loss = 0.106983, step = 2101\n",
      "INFO:tensorflow:global_step/sec: 170.176\n",
      "INFO:tensorflow:loss = 0.11177, step = 2201\n",
      "INFO:tensorflow:global_step/sec: 203.436\n",
      "INFO:tensorflow:loss = 0.118421, step = 2301\n",
      "INFO:tensorflow:global_step/sec: 204.188\n",
      "INFO:tensorflow:loss = 0.106906, step = 2401\n",
      "INFO:tensorflow:global_step/sec: 202.864\n",
      "INFO:tensorflow:loss = 0.105826, step = 2501\n",
      "INFO:tensorflow:global_step/sec: 181.708\n",
      "INFO:tensorflow:loss = 0.0632796, step = 2601\n",
      "INFO:tensorflow:global_step/sec: 187.8\n",
      "INFO:tensorflow:loss = 0.0681243, step = 2701\n",
      "INFO:tensorflow:global_step/sec: 185.726\n",
      "INFO:tensorflow:loss = 0.263648, step = 2801\n",
      "INFO:tensorflow:global_step/sec: 180.521\n",
      "INFO:tensorflow:loss = 0.0470864, step = 2901\n",
      "INFO:tensorflow:global_step/sec: 180.164\n",
      "INFO:tensorflow:loss = 0.0334897, step = 3001\n",
      "INFO:tensorflow:global_step/sec: 196.028\n",
      "INFO:tensorflow:loss = 0.0447188, step = 3101\n",
      "INFO:tensorflow:global_step/sec: 180.75\n",
      "INFO:tensorflow:loss = 0.0835962, step = 3201\n",
      "INFO:tensorflow:global_step/sec: 182.432\n",
      "INFO:tensorflow:loss = 0.0395592, step = 3301\n",
      "INFO:tensorflow:global_step/sec: 197.599\n",
      "INFO:tensorflow:loss = 0.0345406, step = 3401\n",
      "INFO:tensorflow:global_step/sec: 178.514\n",
      "INFO:tensorflow:loss = 0.023532, step = 3501\n",
      "INFO:tensorflow:global_step/sec: 181.368\n",
      "INFO:tensorflow:loss = 0.107909, step = 3601\n",
      "INFO:tensorflow:global_step/sec: 190.103\n",
      "INFO:tensorflow:loss = 0.123574, step = 3701\n",
      "INFO:tensorflow:global_step/sec: 165.825\n",
      "INFO:tensorflow:loss = 0.0839117, step = 3801\n",
      "INFO:tensorflow:global_step/sec: 177.476\n",
      "INFO:tensorflow:loss = 0.0119047, step = 3901\n",
      "INFO:tensorflow:global_step/sec: 161.931\n",
      "INFO:tensorflow:loss = 0.100914, step = 4001\n",
      "INFO:tensorflow:global_step/sec: 202.54\n",
      "INFO:tensorflow:loss = 0.0386213, step = 4101\n",
      "INFO:tensorflow:global_step/sec: 172.174\n",
      "INFO:tensorflow:loss = 0.0164022, step = 4201\n",
      "INFO:tensorflow:global_step/sec: 199.088\n",
      "INFO:tensorflow:loss = 0.047079, step = 4301\n",
      "INFO:tensorflow:global_step/sec: 201.556\n",
      "INFO:tensorflow:loss = 0.0202848, step = 4401\n",
      "INFO:tensorflow:global_step/sec: 201.464\n",
      "INFO:tensorflow:loss = 0.0153305, step = 4501\n",
      "INFO:tensorflow:global_step/sec: 206.344\n",
      "INFO:tensorflow:loss = 0.0218585, step = 4601\n",
      "INFO:tensorflow:global_step/sec: 205.899\n",
      "INFO:tensorflow:loss = 0.0218499, step = 4701\n",
      "INFO:tensorflow:global_step/sec: 201.39\n",
      "INFO:tensorflow:loss = 0.0299344, step = 4801\n",
      "INFO:tensorflow:global_step/sec: 158.558\n",
      "INFO:tensorflow:loss = 0.0337353, step = 4901\n",
      "INFO:tensorflow:global_step/sec: 168.643\n",
      "INFO:tensorflow:loss = 0.0101702, step = 5001\n",
      "INFO:tensorflow:global_step/sec: 193.924\n",
      "INFO:tensorflow:loss = 0.0489351, step = 5101\n",
      "INFO:tensorflow:global_step/sec: 202.468\n",
      "INFO:tensorflow:loss = 0.0617466, step = 5201\n",
      "INFO:tensorflow:global_step/sec: 205.128\n",
      "INFO:tensorflow:loss = 0.0652169, step = 5301\n",
      "INFO:tensorflow:global_step/sec: 199.184\n",
      "INFO:tensorflow:loss = 0.0119946, step = 5401\n",
      "INFO:tensorflow:global_step/sec: 176.395\n",
      "INFO:tensorflow:loss = 0.0142375, step = 5501\n",
      "INFO:tensorflow:global_step/sec: 182.971\n",
      "INFO:tensorflow:loss = 0.0235908, step = 5601\n",
      "INFO:tensorflow:global_step/sec: 204.222\n",
      "INFO:tensorflow:loss = 0.0224462, step = 5701\n",
      "INFO:tensorflow:global_step/sec: 182.295\n",
      "INFO:tensorflow:loss = 0.0208012, step = 5801\n",
      "INFO:tensorflow:global_step/sec: 203.74\n",
      "INFO:tensorflow:loss = 0.0149535, step = 5901\n",
      "INFO:tensorflow:global_step/sec: 188.709\n",
      "INFO:tensorflow:loss = 0.00998572, step = 6001\n",
      "INFO:tensorflow:global_step/sec: 168.518\n",
      "INFO:tensorflow:loss = 0.0230267, step = 6101\n",
      "INFO:tensorflow:global_step/sec: 196.672\n",
      "INFO:tensorflow:loss = 0.00888793, step = 6201\n",
      "INFO:tensorflow:global_step/sec: 185.753\n",
      "INFO:tensorflow:loss = 0.0415763, step = 6301\n",
      "INFO:tensorflow:global_step/sec: 184.598\n",
      "INFO:tensorflow:loss = 0.0373883, step = 6401\n",
      "INFO:tensorflow:global_step/sec: 182.791\n",
      "INFO:tensorflow:loss = 0.01577, step = 6501\n",
      "INFO:tensorflow:global_step/sec: 203.626\n",
      "INFO:tensorflow:loss = 0.00809332, step = 6601\n",
      "INFO:tensorflow:global_step/sec: 202.865\n",
      "INFO:tensorflow:loss = 0.00865669, step = 6701\n",
      "INFO:tensorflow:global_step/sec: 202.244\n",
      "INFO:tensorflow:loss = 0.0190473, step = 6801\n",
      "INFO:tensorflow:global_step/sec: 195.059\n",
      "INFO:tensorflow:loss = 0.0315065, step = 6901\n",
      "INFO:tensorflow:global_step/sec: 195.543\n",
      "INFO:tensorflow:loss = 0.0278922, step = 7001\n",
      "INFO:tensorflow:global_step/sec: 188.091\n",
      "INFO:tensorflow:loss = 0.00449323, step = 7101\n",
      "INFO:tensorflow:global_step/sec: 187.156\n",
      "INFO:tensorflow:loss = 0.036256, step = 7201\n",
      "INFO:tensorflow:global_step/sec: 189.721\n",
      "INFO:tensorflow:loss = 0.0150745, step = 7301\n",
      "INFO:tensorflow:global_step/sec: 198.338\n",
      "INFO:tensorflow:loss = 0.0165559, step = 7401\n",
      "INFO:tensorflow:global_step/sec: 186.246\n",
      "INFO:tensorflow:loss = 0.037295, step = 7501\n",
      "INFO:tensorflow:global_step/sec: 190.889\n",
      "INFO:tensorflow:loss = 0.0240185, step = 7601\n",
      "INFO:tensorflow:global_step/sec: 192.186\n",
      "INFO:tensorflow:loss = 0.0109488, step = 7701\n",
      "INFO:tensorflow:global_step/sec: 197.75\n",
      "INFO:tensorflow:loss = 0.00481805, step = 7801\n",
      "INFO:tensorflow:global_step/sec: 197.768\n",
      "INFO:tensorflow:loss = 0.00881455, step = 7901\n",
      "INFO:tensorflow:global_step/sec: 204.322\n",
      "INFO:tensorflow:loss = 0.0180233, step = 8001\n",
      "INFO:tensorflow:global_step/sec: 199.284\n",
      "INFO:tensorflow:loss = 0.00326675, step = 8101\n",
      "INFO:tensorflow:global_step/sec: 191.118\n",
      "INFO:tensorflow:loss = 0.0222224, step = 8201\n",
      "INFO:tensorflow:global_step/sec: 200.119\n",
      "INFO:tensorflow:loss = 0.0143766, step = 8301\n",
      "INFO:tensorflow:global_step/sec: 193.085\n",
      "INFO:tensorflow:loss = 0.0155887, step = 8401\n",
      "INFO:tensorflow:global_step/sec: 196.781\n",
      "INFO:tensorflow:loss = 0.00323766, step = 8501\n",
      "INFO:tensorflow:global_step/sec: 196.17\n",
      "INFO:tensorflow:loss = 0.00178861, step = 8601\n",
      "INFO:tensorflow:global_step/sec: 168.518\n",
      "INFO:tensorflow:loss = 0.0192478, step = 8701\n",
      "INFO:tensorflow:global_step/sec: 188.103\n",
      "INFO:tensorflow:loss = 0.00529624, step = 8801\n",
      "INFO:tensorflow:global_step/sec: 162.384\n",
      "INFO:tensorflow:loss = 0.00213499, step = 8901\n",
      "INFO:tensorflow:global_step/sec: 170.378\n",
      "INFO:tensorflow:loss = 0.00949998, step = 9001\n",
      "INFO:tensorflow:global_step/sec: 199.346\n",
      "INFO:tensorflow:loss = 0.00875041, step = 9101\n",
      "INFO:tensorflow:global_step/sec: 187.662\n",
      "INFO:tensorflow:loss = 0.0134614, step = 9201\n",
      "INFO:tensorflow:global_step/sec: 183.378\n",
      "INFO:tensorflow:loss = 0.011783, step = 9301\n",
      "INFO:tensorflow:global_step/sec: 173.763\n",
      "INFO:tensorflow:loss = 0.00337233, step = 9401\n",
      "INFO:tensorflow:global_step/sec: 179.582\n",
      "INFO:tensorflow:loss = 0.00484387, step = 9501\n",
      "INFO:tensorflow:global_step/sec: 178.367\n",
      "INFO:tensorflow:loss = 0.0334079, step = 9601\n",
      "INFO:tensorflow:global_step/sec: 183.679\n",
      "INFO:tensorflow:loss = 0.00310849, step = 9701\n",
      "INFO:tensorflow:global_step/sec: 175.618\n",
      "INFO:tensorflow:loss = 0.00881341, step = 9801\n",
      "INFO:tensorflow:global_step/sec: 173.344\n",
      "INFO:tensorflow:loss = 0.00526275, step = 9901\n",
      "INFO:tensorflow:global_step/sec: 173.825\n",
      "INFO:tensorflow:Saving checkpoints for 10000 into /tmp/tmpp8nqdar1/model.ckpt.\n",
      "WARNING:tensorflow:*******************************************************\n",
      "WARNING:tensorflow:TensorFlow's V1 checkpoint format has been deprecated.\n",
      "WARNING:tensorflow:Consider switching to the more efficient V2 format:\n",
      "WARNING:tensorflow:   `tf.train.Saver(write_version=tf.train.SaverDef.V2)`\n",
      "WARNING:tensorflow:now on by default.\n",
      "WARNING:tensorflow:*******************************************************\n",
      "INFO:tensorflow:Loss for final step: 0.0432844.\n"
     ]
    },
    {
     "data": {
      "text/plain": [
       "<tensorflow.contrib.learn.python.learn.estimators.dnn.DNNClassifier at 0x7f8601922518>"
      ]
     },
     "execution_count": 19,
     "metadata": {},
     "output_type": "execute_result"
    }
   ],
   "source": [
    "feature_cols = tf.contrib.learn.infer_real_valued_columns_from_input(X_train)\n",
    "dnn_clf = tf.contrib.learn.DNNClassifier(hidden_units=[300, 100], \n",
    "                                         n_classes=10, \n",
    "                                         feature_columns=feature_cols)\n",
    "dnn_clf.fit(x=X_train, y=y_train, batch_size=64, steps=10000)"
   ]
  },
  {
   "cell_type": "code",
   "execution_count": 27,
   "metadata": {
    "collapsed": false
   },
   "outputs": [
    {
     "name": "stdout",
     "output_type": "stream",
     "text": [
      "WARNING:tensorflow:From /home/dola/anaconda3/envs/py3tf/lib/python3.5/site-packages/tensorflow/contrib/learn/python/learn/estimators/dnn.py:348 in predict.: calling BaseEstimator.predict (from tensorflow.contrib.learn.python.learn.estimators.estimator) with x is deprecated and will be removed after 2016-12-01.\n",
      "Instructions for updating:\n",
      "Estimator is decoupled from Scikit Learn interface by moving into\n",
      "separate class SKCompat. Arguments x, y and batch_size are only\n",
      "available in the SKCompat class, Estimator will only accept input_fn.\n",
      "Example conversion:\n",
      "  est = Estimator(...) -> est = SKCompat(Estimator(...))\n",
      "WARNING:tensorflow:From /home/dola/anaconda3/envs/py3tf/lib/python3.5/site-packages/tensorflow/contrib/learn/python/learn/estimators/dnn.py:348 in predict.: calling BaseEstimator.predict (from tensorflow.contrib.learn.python.learn.estimators.estimator) with batch_size is deprecated and will be removed after 2016-12-01.\n",
      "Instructions for updating:\n",
      "Estimator is decoupled from Scikit Learn interface by moving into\n",
      "separate class SKCompat. Arguments x, y and batch_size are only\n",
      "available in the SKCompat class, Estimator will only accept input_fn.\n",
      "Example conversion:\n",
      "  est = Estimator(...) -> est = SKCompat(Estimator(...))\n",
      "WARNING:tensorflow:From /home/dola/anaconda3/envs/py3tf/lib/python3.5/site-packages/tensorflow/contrib/learn/python/learn/estimators/dnn.py:348 in predict.: calling BaseEstimator.predict (from tensorflow.contrib.learn.python.learn.estimators.estimator) with as_iterable is deprecated and will be removed after 2016-12-01.\n",
      "Instructions for updating:\n",
      "Estimator is decoupled from Scikit Learn interface by moving into\n",
      "separate class SKCompat. Arguments x, y and batch_size are only\n",
      "available in the SKCompat class, Estimator will only accept input_fn.\n",
      "Example conversion:\n",
      "  est = Estimator(...) -> est = SKCompat(Estimator(...))\n",
      "INFO:tensorflow:Summary name dnn/hiddenlayer_0:fraction_of_zero_values is illegal; using dnn/hiddenlayer_0_fraction_of_zero_values instead.\n",
      "INFO:tensorflow:Summary name dnn/hiddenlayer_0:activation is illegal; using dnn/hiddenlayer_0_activation instead.\n",
      "INFO:tensorflow:Summary name dnn/hiddenlayer_1:fraction_of_zero_values is illegal; using dnn/hiddenlayer_1_fraction_of_zero_values instead.\n",
      "INFO:tensorflow:Summary name dnn/hiddenlayer_1:activation is illegal; using dnn/hiddenlayer_1_activation instead.\n",
      "INFO:tensorflow:Summary name dnn/logits:fraction_of_zero_values is illegal; using dnn/logits_fraction_of_zero_values instead.\n",
      "INFO:tensorflow:Summary name dnn/logits:activation is illegal; using dnn/logits_activation instead.\n",
      "INFO:tensorflow:Loading model from checkpoint: /tmp/tmpp8nqdar1/model.ckpt-10000-?????-of-00001.\n"
     ]
    },
    {
     "data": {
      "text/plain": [
       "0.98399999999999999"
      ]
     },
     "execution_count": 27,
     "metadata": {},
     "output_type": "execute_result"
    }
   ],
   "source": [
    "from sklearn.metrics import accuracy_score\n",
    "y_pred = list(dnn_clf.predict(X_test))\n",
    "accuracy_score(y_test, y_pred)"
   ]
  },
  {
   "cell_type": "code",
   "execution_count": 28,
   "metadata": {
    "collapsed": false
   },
   "outputs": [
    {
     "name": "stdout",
     "output_type": "stream",
     "text": [
      "WARNING:tensorflow:From /home/dola/anaconda3/envs/py3tf/lib/python3.5/site-packages/tensorflow/contrib/learn/python/learn/estimators/dnn.py:323 in evaluate.: calling BaseEstimator.evaluate (from tensorflow.contrib.learn.python.learn.estimators.estimator) with x is deprecated and will be removed after 2016-12-01.\n",
      "Instructions for updating:\n",
      "Estimator is decoupled from Scikit Learn interface by moving into\n",
      "separate class SKCompat. Arguments x, y and batch_size are only\n",
      "available in the SKCompat class, Estimator will only accept input_fn.\n",
      "Example conversion:\n",
      "  est = Estimator(...) -> est = SKCompat(Estimator(...))\n",
      "WARNING:tensorflow:From /home/dola/anaconda3/envs/py3tf/lib/python3.5/site-packages/tensorflow/contrib/learn/python/learn/estimators/dnn.py:323 in evaluate.: calling BaseEstimator.evaluate (from tensorflow.contrib.learn.python.learn.estimators.estimator) with y is deprecated and will be removed after 2016-12-01.\n",
      "Instructions for updating:\n",
      "Estimator is decoupled from Scikit Learn interface by moving into\n",
      "separate class SKCompat. Arguments x, y and batch_size are only\n",
      "available in the SKCompat class, Estimator will only accept input_fn.\n",
      "Example conversion:\n",
      "  est = Estimator(...) -> est = SKCompat(Estimator(...))\n",
      "WARNING:tensorflow:From /home/dola/anaconda3/envs/py3tf/lib/python3.5/site-packages/tensorflow/contrib/learn/python/learn/estimators/dnn.py:323 in evaluate.: calling BaseEstimator.evaluate (from tensorflow.contrib.learn.python.learn.estimators.estimator) with batch_size is deprecated and will be removed after 2016-12-01.\n",
      "Instructions for updating:\n",
      "Estimator is decoupled from Scikit Learn interface by moving into\n",
      "separate class SKCompat. Arguments x, y and batch_size are only\n",
      "available in the SKCompat class, Estimator will only accept input_fn.\n",
      "Example conversion:\n",
      "  est = Estimator(...) -> est = SKCompat(Estimator(...))\n",
      "INFO:tensorflow:Summary name dnn/hiddenlayer_0:fraction_of_zero_values is illegal; using dnn/hiddenlayer_0_fraction_of_zero_values instead.\n",
      "INFO:tensorflow:Summary name dnn/hiddenlayer_0:activation is illegal; using dnn/hiddenlayer_0_activation instead.\n",
      "INFO:tensorflow:Summary name dnn/hiddenlayer_1:fraction_of_zero_values is illegal; using dnn/hiddenlayer_1_fraction_of_zero_values instead.\n",
      "INFO:tensorflow:Summary name dnn/hiddenlayer_1:activation is illegal; using dnn/hiddenlayer_1_activation instead.\n",
      "INFO:tensorflow:Summary name dnn/logits:fraction_of_zero_values is illegal; using dnn/logits_fraction_of_zero_values instead.\n",
      "INFO:tensorflow:Summary name dnn/logits:activation is illegal; using dnn/logits_activation instead.\n",
      "INFO:tensorflow:Restored model from /tmp/tmpp8nqdar1\n",
      "INFO:tensorflow:Eval steps [0,inf) for training step 10000.\n",
      "INFO:tensorflow:Input iterator is exhausted.\n",
      "INFO:tensorflow:Saving evaluation summary for step 10000: accuracy = 0.984, loss = 0.0548004\n"
     ]
    },
    {
     "data": {
      "text/plain": [
       "{'accuracy': 0.98400003, 'global_step': 10000, 'loss': 0.054800361}"
      ]
     },
     "execution_count": 28,
     "metadata": {},
     "output_type": "execute_result"
    }
   ],
   "source": [
    "dnn_clf.evaluate(X_test, y_test)"
   ]
  },
  {
   "cell_type": "markdown",
   "metadata": {},
   "source": [
    "## tensorflow DNN"
   ]
  },
  {
   "cell_type": "code",
   "execution_count": 89,
   "metadata": {
    "collapsed": true
   },
   "outputs": [],
   "source": [
    "tf.reset_default_graph()"
   ]
  },
  {
   "cell_type": "code",
   "execution_count": 90,
   "metadata": {
    "collapsed": true
   },
   "outputs": [],
   "source": [
    "n_inputs = 28 * 28\n",
    "n_hidden1 = 300\n",
    "n_hidden2 = 100\n",
    "n_output = 10\n",
    "\n",
    "X = tf.placeholder(tf.float32, shape=[None, n_inputs], name=\"X\")\n",
    "y = tf.placeholder(tf.int32, shape=[None], name=\"y\")"
   ]
  },
  {
   "cell_type": "code",
   "execution_count": 91,
   "metadata": {
    "collapsed": true
   },
   "outputs": [],
   "source": [
    "def layer(name, n, x, activation=None):\n",
    "    with tf.name_scope(name):\n",
    "        n_inputs = int(x.get_shape()[1])\n",
    "        stddev = 2 / np.sqrt(n_inputs)\n",
    "        W = tf.Variable(tf.truncated_normal((n_inputs, n), stddev=stddev), name=\"W\")\n",
    "        b = tf.Variable(tf.zeros([n]), name=\"b\")\n",
    "        z = tf.add(tf.matmul(x, W), b, name=\"z\")\n",
    "        if activation is None:\n",
    "            return tf.nn.relu(z)\n",
    "        else:\n",
    "            return activation(z)"
   ]
  },
  {
   "cell_type": "code",
   "execution_count": 92,
   "metadata": {
    "collapsed": false
   },
   "outputs": [],
   "source": [
    "with tf.name_scope(\"dnn\"):\n",
    "    hidden1 = layer(\"hidden1\", n_hidden1, X)\n",
    "    hidden2 = layer(\"hidden2\", n_hidden2, hidden1)\n",
    "    logits = layer(\"output\", n_output, hidden2, tf.identity)\n",
    "    probs = tf.nn.softmax(logits)\n",
    "    labels = tf.cast(tf.argmax(probs, 1), tf.int32)\n",
    "    \n",
    "with tf.name_scope(\"metrics\"):\n",
    "    loss = tf.reduce_mean(tf.nn.sparse_softmax_cross_entropy_with_logits(logits, y))\n",
    "    accuracy = tf.reduce_mean(tf.cast(tf.equal(labels, y), tf.float32))"
   ]
  },
  {
   "cell_type": "code",
   "execution_count": 93,
   "metadata": {
    "collapsed": true
   },
   "outputs": [],
   "source": [
    "writer = tf.summary.FileWriter(\"dnn-logs\")\n",
    "\n",
    "train_op = tf.train.AdamOptimizer(learning_rate=1e-3).minimize(loss)\n",
    "\n",
    "init = tf.global_variables_initializer()"
   ]
  },
  {
   "cell_type": "code",
   "execution_count": 94,
   "metadata": {
    "collapsed": true
   },
   "outputs": [],
   "source": [
    "def generate_batch(x, y, batch_size=64):\n",
    "    i, n = 0, x.shape[0]\n",
    "    while True:\n",
    "        i = i % n\n",
    "        yield x[i:i+batch_size], y[i:i+batch_size]\n",
    "        i += batch_size\n",
    "        if i > n: i = 0\n",
    "            \n",
    "batches = generate_batch(X_train, y_train)"
   ]
  },
  {
   "cell_type": "code",
   "execution_count": 95,
   "metadata": {
    "collapsed": false
   },
   "outputs": [
    {
     "name": "stdout",
     "output_type": "stream",
     "text": [
      "train_loss: 2, test_loss: 2.4, test_accuracy: 0.17\n",
      "train_loss: 0.25, test_loss: 0.3, test_accuracy: 0.91\n",
      "train_loss: 0.37, test_loss: 0.23, test_accuracy: 0.93\n",
      "train_loss: 0.13, test_loss: 0.19, test_accuracy: 0.95\n",
      "train_loss: 0.17, test_loss: 0.19, test_accuracy: 0.94\n",
      "train_loss: 0.12, test_loss: 0.15, test_accuracy: 0.95\n",
      "train_loss: 0.094, test_loss: 0.15, test_accuracy: 0.96\n",
      "train_loss: 0.15, test_loss: 0.14, test_accuracy: 0.96\n",
      "train_loss: 0.053, test_loss: 0.14, test_accuracy: 0.96\n",
      "train_loss: 0.11, test_loss: 0.13, test_accuracy: 0.96\n",
      "train_loss: 0.058, test_loss: 0.11, test_accuracy: 0.97\n",
      "train_loss: 0.025, test_loss: 0.11, test_accuracy: 0.97\n",
      "train_loss: 0.033, test_loss: 0.11, test_accuracy: 0.97\n",
      "train_loss: 0.13, test_loss: 0.097, test_accuracy: 0.97\n",
      "train_loss: 0.046, test_loss: 0.13, test_accuracy: 0.96\n",
      "train_loss: 0.049, test_loss: 0.097, test_accuracy: 0.97\n",
      "train_loss: 0.14, test_loss: 0.09, test_accuracy: 0.97\n",
      "train_loss: 0.06, test_loss: 0.082, test_accuracy: 0.97\n",
      "train_loss: 0.09, test_loss: 0.086, test_accuracy: 0.97\n",
      "train_loss: 0.012, test_loss: 0.091, test_accuracy: 0.97\n",
      "train_loss: 0.025, test_loss: 0.098, test_accuracy: 0.97\n",
      "train_loss: 0.024, test_loss: 0.082, test_accuracy: 0.98\n",
      "train_loss: 0.056, test_loss: 0.079, test_accuracy: 0.97\n",
      "train_loss: 0.051, test_loss: 0.091, test_accuracy: 0.97\n",
      "train_loss: 0.085, test_loss: 0.093, test_accuracy: 0.97\n",
      "train_loss: 0.055, test_loss: 0.092, test_accuracy: 0.97\n",
      "train_loss: 0.022, test_loss: 0.087, test_accuracy: 0.97\n",
      "train_loss: 0.053, test_loss: 0.095, test_accuracy: 0.97\n",
      "train_loss: 0.028, test_loss: 0.073, test_accuracy: 0.98\n",
      "train_loss: 0.0085, test_loss: 0.087, test_accuracy: 0.97\n",
      "train_loss: 0.015, test_loss: 0.094, test_accuracy: 0.97\n",
      "train_loss: 0.0062, test_loss: 0.078, test_accuracy: 0.98\n",
      "train_loss: 0.0044, test_loss: 0.083, test_accuracy: 0.98\n",
      "train_loss: 0.026, test_loss: 0.075, test_accuracy: 0.98\n",
      "train_loss: 0.023, test_loss: 0.087, test_accuracy: 0.97\n",
      "train_loss: 0.0034, test_loss: 0.077, test_accuracy: 0.98\n",
      "train_loss: 0.0058, test_loss: 0.079, test_accuracy: 0.98\n",
      "train_loss: 0.005, test_loss: 0.088, test_accuracy: 0.97\n",
      "train_loss: 0.012, test_loss: 0.11, test_accuracy: 0.97\n",
      "train_loss: 0.019, test_loss: 0.085, test_accuracy: 0.97\n",
      "train_loss: 0.007, test_loss: 0.088, test_accuracy: 0.98\n",
      "train_loss: 0.012, test_loss: 0.076, test_accuracy: 0.98\n",
      "train_loss: 0.011, test_loss: 0.079, test_accuracy: 0.98\n",
      "train_loss: 0.0068, test_loss: 0.096, test_accuracy: 0.97\n",
      "train_loss: 0.0034, test_loss: 0.091, test_accuracy: 0.98\n",
      "train_loss: 0.01, test_loss: 0.085, test_accuracy: 0.98\n",
      "train_loss: 0.011, test_loss: 0.091, test_accuracy: 0.98\n",
      "train_loss: 0.0082, test_loss: 0.093, test_accuracy: 0.98\n",
      "train_loss: 0.017, test_loss: 0.091, test_accuracy: 0.98\n",
      "train_loss: 0.0068, test_loss: 0.085, test_accuracy: 0.98\n",
      "train_loss: 0.011, test_loss: 0.085, test_accuracy: 0.98\n",
      "train_loss: 0.037, test_loss: 0.088, test_accuracy: 0.98\n",
      "train_loss: 0.003, test_loss: 0.083, test_accuracy: 0.98\n",
      "train_loss: 0.006, test_loss: 0.094, test_accuracy: 0.97\n",
      "train_loss: 0.0039, test_loss: 0.1, test_accuracy: 0.97\n",
      "train_loss: 0.014, test_loss: 0.09, test_accuracy: 0.98\n",
      "train_loss: 0.0027, test_loss: 0.081, test_accuracy: 0.98\n",
      "train_loss: 0.0024, test_loss: 0.094, test_accuracy: 0.98\n",
      "train_loss: 0.001, test_loss: 0.096, test_accuracy: 0.98\n",
      "train_loss: 0.0047, test_loss: 0.075, test_accuracy: 0.98\n",
      "train_loss: 0.015, test_loss: 0.091, test_accuracy: 0.98\n",
      "train_loss: 0.0079, test_loss: 0.092, test_accuracy: 0.98\n",
      "train_loss: 0.0039, test_loss: 0.089, test_accuracy: 0.98\n",
      "train_loss: 0.014, test_loss: 0.086, test_accuracy: 0.98\n",
      "train_loss: 0.0085, test_loss: 0.092, test_accuracy: 0.98\n",
      "train_loss: 0.011, test_loss: 0.077, test_accuracy: 0.98\n",
      "train_loss: 0.05, test_loss: 0.079, test_accuracy: 0.98\n",
      "train_loss: 0.0042, test_loss: 0.095, test_accuracy: 0.98\n",
      "train_loss: 0.0029, test_loss: 0.084, test_accuracy: 0.98\n",
      "train_loss: 0.011, test_loss: 0.078, test_accuracy: 0.98\n",
      "train_loss: 0.011, test_loss: 0.093, test_accuracy: 0.98\n",
      "train_loss: 0.0062, test_loss: 0.091, test_accuracy: 0.98\n",
      "train_loss: 0.0052, test_loss: 0.084, test_accuracy: 0.98\n",
      "train_loss: 0.0036, test_loss: 0.09, test_accuracy: 0.98\n",
      "train_loss: 0.00073, test_loss: 0.091, test_accuracy: 0.98\n",
      "train_loss: 0.0018, test_loss: 0.085, test_accuracy: 0.98\n",
      "train_loss: 0.024, test_loss: 0.097, test_accuracy: 0.98\n",
      "train_loss: 0.0066, test_loss: 0.099, test_accuracy: 0.98\n",
      "train_loss: 0.0025, test_loss: 0.084, test_accuracy: 0.98\n",
      "train_loss: 0.0051, test_loss: 0.12, test_accuracy: 0.98\n",
      "train_loss: 0.0027, test_loss: 0.092, test_accuracy: 0.98\n",
      "train_loss: 0.0066, test_loss: 0.13, test_accuracy: 0.97\n",
      "train_loss: 0.018, test_loss: 0.11, test_accuracy: 0.98\n",
      "train_loss: 0.00045, test_loss: 0.08, test_accuracy: 0.98\n",
      "train_loss: 0.00023, test_loss: 0.089, test_accuracy: 0.98\n",
      "train_loss: 0.00054, test_loss: 0.1, test_accuracy: 0.98\n",
      "train_loss: 0.0021, test_loss: 0.1, test_accuracy: 0.98\n",
      "train_loss: 0.00089, test_loss: 0.093, test_accuracy: 0.98\n",
      "train_loss: 0.0023, test_loss: 0.083, test_accuracy: 0.98\n",
      "train_loss: 0.018, test_loss: 0.099, test_accuracy: 0.98\n",
      "train_loss: 0.0034, test_loss: 0.095, test_accuracy: 0.98\n",
      "train_loss: 0.0039, test_loss: 0.086, test_accuracy: 0.98\n",
      "train_loss: 0.0047, test_loss: 0.088, test_accuracy: 0.98\n",
      "train_loss: 0.0012, test_loss: 0.096, test_accuracy: 0.98\n",
      "train_loss: 0.013, test_loss: 0.1, test_accuracy: 0.98\n",
      "train_loss: 0.0017, test_loss: 0.095, test_accuracy: 0.98\n",
      "train_loss: 5.5e-05, test_loss: 0.1, test_accuracy: 0.98\n",
      "train_loss: 0.00076, test_loss: 0.086, test_accuracy: 0.98\n",
      "train_loss: 0.0019, test_loss: 0.1, test_accuracy: 0.98\n",
      "train_loss: 0.00044, test_loss: 0.091, test_accuracy: 0.98\n"
     ]
    }
   ],
   "source": [
    "n_epochs = 10000\n",
    "\n",
    "with tf.Session() as sess:\n",
    "    sess.run(init)\n",
    "    for i in range(n_epochs):\n",
    "        x_batch, y_batch = next(batches)\n",
    "        sess.run(train_op, feed_dict={X:x_batch, y:y_batch})\n",
    "        if i % 100 == 0:\n",
    "            test_acc = accuracy.eval(feed_dict={X:X_test, y:y_test})\n",
    "            train_loss = loss.eval(feed_dict={X:x_batch, y:y_batch})\n",
    "            test_loss = loss.eval(feed_dict={X:X_test, y:y_test})\n",
    "#             print(train_loss)\n",
    "            print(\"train_loss: %.2g, test_loss: %.2g, test_accuracy: %.2g\" % (train_loss, test_loss, test_acc))"
   ]
  },
  {
   "cell_type": "code",
   "execution_count": 98,
   "metadata": {
    "collapsed": false
   },
   "outputs": [
    {
     "name": "stdout",
     "output_type": "stream",
     "text": [
      "[ True False]\n"
     ]
    }
   ],
   "source": [
    "a = tf.constant([[1.1, 1.2, 1.05], [1, 1.9, 0.9]])\n",
    "b = tf.constant([1, 0])\n",
    "c = tf.nn.in_top_k(a, b, 1)\n",
    "with tf.Session() as sess:\n",
    "    print(sess.run(c))"
   ]
  },
  {
   "cell_type": "code",
   "execution_count": null,
   "metadata": {
    "collapsed": true
   },
   "outputs": [],
   "source": []
  }
 ],
 "metadata": {
  "kernelspec": {
   "display_name": "Python 3",
   "language": "python",
   "name": "python3"
  },
  "language_info": {
   "codemirror_mode": {
    "name": "ipython",
    "version": 3
   },
   "file_extension": ".py",
   "mimetype": "text/x-python",
   "name": "python",
   "nbconvert_exporter": "python",
   "pygments_lexer": "ipython3",
   "version": "3.5.2"
  }
 },
 "nbformat": 4,
 "nbformat_minor": 2
}
