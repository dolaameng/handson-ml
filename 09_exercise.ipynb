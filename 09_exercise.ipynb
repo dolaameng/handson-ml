{
 "cells": [
  {
   "cell_type": "code",
   "execution_count": 1,
   "metadata": {
    "collapsed": true
   },
   "outputs": [],
   "source": [
    "import tensorflow as tf\n",
    "import numpy as np"
   ]
  },
  {
   "cell_type": "markdown",
   "metadata": {},
   "source": [
    "## sharing parameters in mulitple components in tf - by method attribute"
   ]
  },
  {
   "cell_type": "code",
   "execution_count": 2,
   "metadata": {
    "collapsed": true
   },
   "outputs": [],
   "source": [
    "tf.reset_default_graph()\n",
    "\n",
    "def relu(x):\n",
    "    with tf.name_scope(\"relu\"):\n",
    "        if not hasattr(relu, \"threshold\"):\n",
    "            relu.threshold = tf.Variable(0.0, name=\"threshold\")\n",
    "        w_shape = (int(x.get_shape()[1]), 1)\n",
    "        w = tf.Variable(tf.truncated_normal(w_shape), name=\"weights\")\n",
    "        b = tf.Variable(0.0, name=\"bias\")\n",
    "        z = tf.add(tf.matmul(x, w), b, name=\"z\")\n",
    "        return tf.maximum(z, relu.threshold, name=\"max\")\n",
    "    \n",
    "X = tf.placeholder(tf.float32, shape=(None, 4), name=\"X\")\n",
    "relus = [relu(X) for i in range(5)]\n",
    "output = tf.add_n(relus, name=\"output\")"
   ]
  },
  {
   "cell_type": "code",
   "execution_count": 8,
   "metadata": {
    "collapsed": false
   },
   "outputs": [
    {
     "name": "stdout",
     "output_type": "stream",
     "text": [
      "[[ 1.81776404]\n",
      " [ 2.12920499]\n",
      " [ 1.23818207]\n",
      " [ 1.7762363 ]\n",
      " [ 1.61449015]\n",
      " [ 1.21516371]\n",
      " [ 1.59917831]\n",
      " [ 0.3899439 ]\n",
      " [ 1.30287027]\n",
      " [ 1.16305327]\n",
      " [ 1.12576187]\n",
      " [ 0.57863039]\n",
      " [ 1.24174798]\n",
      " [ 1.01707304]\n",
      " [ 0.86130184]\n",
      " [ 0.        ]\n",
      " [ 1.03433323]\n",
      " [ 0.57876635]\n",
      " [ 0.94072402]\n",
      " [ 2.18578339]\n",
      " [ 1.95505798]\n",
      " [ 0.34956798]\n",
      " [ 1.77161562]\n",
      " [ 0.15981589]\n",
      " [ 0.26153257]\n",
      " [ 0.30289859]\n",
      " [ 0.40174085]\n",
      " [ 0.5301947 ]\n",
      " [ 1.42607319]\n",
      " [ 0.97118437]\n",
      " [ 2.33050036]\n",
      " [ 0.56121892]]\n"
     ]
    }
   ],
   "source": [
    "init = tf.global_variables_initializer()\n",
    "\n",
    "with tf.Session() as sess:\n",
    "    init.run()\n",
    "    print(output.eval(feed_dict={X: np.random.rand(32, 4).astype(np.float32)}))"
   ]
  },
  {
   "cell_type": "markdown",
   "metadata": {},
   "source": [
    "## sharing variables in multiple components by dynamically creating on-the-fly variables"
   ]
  },
  {
   "cell_type": "code",
   "execution_count": 19,
   "metadata": {
    "collapsed": false
   },
   "outputs": [
    {
     "name": "stdout",
     "output_type": "stream",
     "text": [
      "test/w:0\n",
      "test/w:0\n",
      "True\n"
     ]
    }
   ],
   "source": [
    "tf.reset_default_graph()\n",
    "\n",
    "with tf.variable_scope(\"test\"):\n",
    "    w = tf.get_variable(\"w\", shape=[], initializer=tf.constant_initializer(5))\n",
    "    print(w.name)\n",
    "    tf.get_variable_scope().reuse_variables()\n",
    "    w1 = tf.get_variable(\"w\")\n",
    "    print(w1.name)\n",
    "    print(w == w1)"
   ]
  },
  {
   "cell_type": "code",
   "execution_count": 35,
   "metadata": {
    "collapsed": false
   },
   "outputs": [
    {
     "name": "stdout",
     "output_type": "stream",
     "text": [
      "w1:0 b1/w2:0\n"
     ]
    }
   ],
   "source": [
    "## difference between tf.variable_scope and tf.names_scope\n",
    "## tf.namescope will be ignored by tf.get_variable\n",
    "tf.reset_default_graph()\n",
    "\n",
    "with tf.name_scope(\"b1\"):\n",
    "    w1 = tf.get_variable(\"w1\", shape=[], initializer=tf.constant_initializer(0.0))\n",
    "#     w3 = tf.get_variable(\"w1\", shape=[], initializer=tf.constant_initializer(0.0))\n",
    "    w2 = tf.Variable(0.0, name=\"w2\")\n",
    "\n",
    "print(w1.name, w2.name)"
   ]
  },
  {
   "cell_type": "code",
   "execution_count": 37,
   "metadata": {
    "collapsed": false
   },
   "outputs": [
    {
     "name": "stdout",
     "output_type": "stream",
     "text": [
      "b2/w1:0 b2/w2:0\n"
     ]
    }
   ],
   "source": [
    "tf.reset_default_graph()\n",
    "\n",
    "with tf.variable_scope(\"b2\", reuse=False):\n",
    "    w1 = tf.get_variable(\"w1\", shape=[], initializer=tf.constant_initializer(0.0))\n",
    "    w2 = tf.Variable(0.0, name=\"w2\")\n",
    "    \n",
    "print(w1.name, w2.name)"
   ]
  },
  {
   "cell_type": "code",
   "execution_count": 25,
   "metadata": {
    "collapsed": false
   },
   "outputs": [],
   "source": [
    "tf.reset_default_graph()\n",
    "\n",
    "def relu(x):\n",
    "    with tf.variable_scope(\"relu\", reuse=True):\n",
    "        threshold = tf.get_variable(\"threshold\")\n",
    "        w_shape = [int(x.get_shape()[1]), 1]\n",
    "        w = tf.Variable(tf.truncated_normal(w_shape), name=\"w\")\n",
    "        b = tf.Variable(0.0, name=\"b\")\n",
    "        z = tf.add(tf.matmul(x, w), b, name=\"z\")\n",
    "        return tf.maximum(z, threshold, name=\"max\")\n",
    "    \n",
    "X = tf.placeholder(tf.float32, shape=(None, 4), name=\"X\")\n",
    "with tf.variable_scope(\"relu\"):\n",
    "    threshold = tf.get_variable(\"threshold\", [], tf.float32, tf.constant_initializer(0.0))\n",
    "relus = [relu(X) for _ in range(5)]\n",
    "output = tf.add_n(relus, name=\"output\")"
   ]
  },
  {
   "cell_type": "code",
   "execution_count": 27,
   "metadata": {
    "collapsed": false
   },
   "outputs": [
    {
     "name": "stdout",
     "output_type": "stream",
     "text": [
      "(32, 1)\n"
     ]
    }
   ],
   "source": [
    "init = tf.global_variables_initializer()\n",
    "\n",
    "with tf.Session() as sess:\n",
    "    init.run()\n",
    "    print(output.eval(feed_dict={X: np.random.rand(32, 4)}).shape)"
   ]
  },
  {
   "cell_type": "code",
   "execution_count": 38,
   "metadata": {
    "collapsed": true
   },
   "outputs": [],
   "source": [
    "sess.close()"
   ]
  },
  {
   "cell_type": "code",
   "execution_count": null,
   "metadata": {
    "collapsed": true
   },
   "outputs": [],
   "source": []
  }
 ],
 "metadata": {
  "kernelspec": {
   "display_name": "Python 3",
   "language": "python",
   "name": "python3"
  },
  "language_info": {
   "codemirror_mode": {
    "name": "ipython",
    "version": 3
   },
   "file_extension": ".py",
   "mimetype": "text/x-python",
   "name": "python",
   "nbconvert_exporter": "python",
   "pygments_lexer": "ipython3",
   "version": "3.5.2"
  }
 },
 "nbformat": 4,
 "nbformat_minor": 2
}
