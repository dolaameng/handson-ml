{
 "cells": [
  {
   "cell_type": "code",
   "execution_count": 43,
   "metadata": {
    "collapsed": true
   },
   "outputs": [],
   "source": [
    "import numpy as np\n",
    "import tensorflow as tf\n",
    "from tensorflow.contrib.layers import batch_norm, fully_connected, l1_regularizer, variance_scaling_initializer\n",
    "from tensorflow.contrib.framework import arg_scope\n",
    "from sklearn.datasets import fetch_mldata\n",
    "from sklearn.model_selection import train_test_split\n",
    "from sklearn.utils import shuffle"
   ]
  },
  {
   "cell_type": "code",
   "execution_count": 44,
   "metadata": {
    "collapsed": true
   },
   "outputs": [],
   "source": [
    "def build_mnist_generator(batch_size=64):\n",
    "    mnist = fetch_mldata(\"MNIST Original\")\n",
    "    X = (mnist.data / 255).astype(np.float32)\n",
    "    y = (mnist.target).astype(np.int32)\n",
    "    X, y = shuffle(X, y)\n",
    "    X_train, X_test, y_train, y_test = train_test_split(X, y, test_size=10000)\n",
    "    def train_generator():\n",
    "        i, n = 0, X_train.shape[0]\n",
    "        while True:\n",
    "            i %= n\n",
    "            yield X_train[i:i+batch_size], y_train[i:i+batch_size]\n",
    "            i += batch_size\n",
    "            if i >= n: i = 0\n",
    "    return train_generator(), (X_test, y_test)\n",
    "\n",
    "train_generator, (X_test, y_test) = build_mnist_generator()"
   ]
  },
  {
   "cell_type": "code",
   "execution_count": 45,
   "metadata": {
    "collapsed": false
   },
   "outputs": [],
   "source": [
    "n_inputs = 28 * 28\n",
    "n_hidden1 = 300\n",
    "n_hidden2 = 100\n",
    "n_outputs = 10\n",
    "\n",
    "tf.reset_default_graph()\n",
    "\n",
    "X = tf.placeholder(tf.float32, [None, n_inputs], name=\"X\")\n",
    "y = tf.placeholder(tf.int32, [None], name=\"y\")\n",
    "is_training = tf.placeholder(tf.bool, [], name=\"is_training\")\n",
    "\n",
    "with tf.name_scope(\"dnn\"):\n",
    "    bn_params = {\n",
    "        \"is_training\": is_training,\n",
    "        \"decay\": 0.9,\n",
    "        \"updates_collections\": None,\n",
    "        \"scale\": True\n",
    "    }\n",
    "\n",
    "    with arg_scope([fully_connected], \n",
    "                   activation_fn=tf.nn.elu,\n",
    "                   normalizer_fn=batch_norm,\n",
    "                   normalizer_params=bn_params,\n",
    "                   weights_initializer=variance_scaling_initializer(),\n",
    "                   weights_regularizer=l1_regularizer(0.01)):\n",
    "        hidden1 = fully_connected(X, n_hidden1)\n",
    "        hidden2 = fully_connected(hidden1, n_hidden2)\n",
    "        logits = fully_connected(hidden2, n_outputs, activation_fn=None)\n",
    "    \n",
    "with tf.name_scope(\"loss\"):\n",
    "    xentropy = tf.nn.sparse_softmax_cross_entropy_with_logits(logits, y)\n",
    "    base_loss = tf.reduce_mean(xentropy, name=\"base_loss\")\n",
    "    reg_loss = tf.get_collection(tf.GraphKeys.REGULARIZATION_LOSSES)\n",
    "    loss = base_loss#tf.add(base_loss, reg_loss, name=\"loss\")\n",
    "    \n",
    "with tf.name_scope(\"train\"):\n",
    "    train_op = tf.train.AdamOptimizer().minimize(loss)\n",
    "\n",
    "with tf.name_scope(\"eval\"):\n",
    "    match = tf.nn.in_top_k(logits, y, 1)\n",
    "    accuracy = tf.reduce_mean(tf.cast(match, tf.float32))\n",
    "    \n",
    "saver = tf.train.Saver()"
   ]
  },
  {
   "cell_type": "code",
   "execution_count": 46,
   "metadata": {
    "collapsed": false
   },
   "outputs": [
    {
     "name": "stdout",
     "output_type": "stream",
     "text": [
      "1.85368 0.390625 0.2295\n",
      "0.150756 1.0 0.9615\n",
      "0.0698274 1.0 0.9692\n",
      "0.0555314 1.0 0.9727\n",
      "0.047498 1.0 0.9744\n",
      "0.0564467 0.984375 0.9756\n",
      "0.0110913 1.0 0.9755\n",
      "0.00926896 1.0 0.9772\n",
      "0.00337995 1.0 0.9774\n",
      "0.0357243 0.984375 0.9745\n"
     ]
    }
   ],
   "source": [
    "init = tf.global_variables_initializer()\n",
    "\n",
    "n_epochs = 10\n",
    "\n",
    "with tf.Session() as sess:\n",
    "    sess.run(init)\n",
    "    for e in range(n_epochs):\n",
    "        for i in range(60000//64):\n",
    "            X_batch, y_batch = next(train_generator)\n",
    "            sess.run(train_op, feed_dict={X:X_batch, y:y_batch, is_training:True})\n",
    "            if i % 1000 == 0:\n",
    "                train_loss = loss.eval(feed_dict={X:X_batch, y:y_batch, is_training:False})\n",
    "                train_acc = accuracy.eval(feed_dict={X:X_batch, y:y_batch, is_training:False})\n",
    "                test_acc = accuracy.eval(feed_dict={X:X_test, y:y_test, is_training:False})\n",
    "                print(train_loss, train_acc, test_acc)\n",
    "    saver.save(sess, \"model.ckpt\")"
   ]
  },
  {
   "cell_type": "code",
   "execution_count": null,
   "metadata": {
    "collapsed": true
   },
   "outputs": [],
   "source": []
  }
 ],
 "metadata": {
  "kernelspec": {
   "display_name": "Python 3",
   "language": "python",
   "name": "python3"
  },
  "language_info": {
   "codemirror_mode": {
    "name": "ipython",
    "version": 3
   },
   "file_extension": ".py",
   "mimetype": "text/x-python",
   "name": "python",
   "nbconvert_exporter": "python",
   "pygments_lexer": "ipython3",
   "version": "3.5.2"
  }
 },
 "nbformat": 4,
 "nbformat_minor": 2
}
